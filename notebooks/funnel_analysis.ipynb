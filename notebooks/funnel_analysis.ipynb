# 1. Imports
import pandas as pd
import matplotlib.pyplot as plt
import numpy as np
from google.cloud import bigquery
from scipy import stats

# 2. Load data (BigQuery)
client = bigquery.Client()           # ensure GOOGLE_APPLICATION_CREDENTIALS set
query = open('../sql/02_funnel_counts.sql').read().replace('project.dataset.raw_events','`your.project.your_dataset.raw_events`')
funnel = client.query(query).to_dataframe()

# 3. Visualize funnel
stages = ['sessions_total','sessions_product_view','sessions_add_to_cart','sessions_begin_checkout','sessions_purchase']
counts = funnel.loc[0, stages].values.astype(int)
plt.figure(figsize=(8,4))
plt.bar(stages, counts)
plt.title('Session Funnel Counts')
plt.xticks(rotation=45)
plt.ylabel('Count')
plt.show()

# 4. Cohort heatmap (load cohort SQL)
cohort_df = client.query(open('../sql/03_cohort_retention.sql').read()).to_dataframe()
pivot = cohort_df.pivot(index='cohort_date', columns='week_offset', values='retention_rate')
plt.figure(figsize=(10,6))
plt.imshow(pivot.fillna(0), aspect='auto', cmap='Blues')
plt.colorbar(label='Retention Rate')
plt.title('Cohort Retention Heatmap')
plt.ylabel('Cohort Date')
plt.xlabel('Week Offset')
plt.yticks(range(len(pivot.index)), pivot.index.astype(str))
plt.show()

# 5. A/B test / statistical test example
# Load metric by variant (simulated)
control = np.random.binomial(1, 0.05, size=5000)
variant = np.random.binomial(1, 0.055, size=5000)
t_stat, p = stats.ttest_ind(variant, control)
print('t-stat', t_stat, 'p-value', p)
